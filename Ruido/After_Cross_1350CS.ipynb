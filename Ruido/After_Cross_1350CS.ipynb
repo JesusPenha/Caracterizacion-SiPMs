{
 "cells": [
  {
   "cell_type": "code",
   "execution_count": 1,
   "metadata": {
    "collapsed": true
   },
   "outputs": [],
   "source": [
    "%matplotlib inline\n",
    "from sklearn import mixture\n",
    "import numpy as np\n",
    "import matplotlib.pyplot as plt\n",
    "import math\n",
    "import scipy.stats as stats\n",
    "from scipy.stats import norm\n",
    "import matplotlib.mlab as mlab\n",
    "from scipy.interpolate import *\n",
    "\n",
    "import scipy\n",
    "from scipy import stats"
   ]
  },
  {
   "cell_type": "code",
   "execution_count": 2,
   "metadata": {
    "collapsed": true
   },
   "outputs": [],
   "source": [
    "data1 = np.loadtxt('LED_2.6V_Gain_25_grad_S13360_54V.txt').T\n",
    "data2 = np.loadtxt('LED_2.6V_Gain_25_grad_S13360_55V.txt').T\n",
    "data3 = np.loadtxt('LED_2.6V_Gain_25_grad_S13360_56V.txt').T\n",
    "samples =500\n",
    "time_0 =0\n",
    "time=np.linspace(0,samples*8,samples)\n",
    "pulses1 = -1000*data1[time_0:time_0+samples,:10000]\n",
    "pulses2 = -1000*data2[time_0:time_0+samples,:10000]\n",
    "pulses3 = -1000*data3[time_0:time_0+samples,:10000]\n",
    "#pulses = -data\n",
    "# Constants\n",
    "t = 8e-9\n",
    "gain = 92   ####### revisar estooooo####\n",
    "res = 51\n",
    "kte = t*1e-3/(gain*res)\n"
   ]
  },
  {
   "cell_type": "code",
   "execution_count": 3,
   "metadata": {
    "collapsed": false
   },
   "outputs": [
    {
     "name": "stdout",
     "output_type": "stream",
     "text": [
      "Outliers: 2375\n"
     ]
    }
   ],
   "source": [
    "# Baseline correction\n",
    "N = len(pulses2.T)\t# Number of pulses\n",
    "mean1 = np.mean(pulses1[1,:])\n",
    "mean2 = np.mean(pulses2[1,:])\n",
    "mean3 = np.mean(pulses3[1,:])\n",
    "pulses1 = pulses1 - mean1\n",
    "pulses2 = pulses2 - mean2\n",
    "pulses3 = pulses3- mean3\n",
    "# Outliers filtering\n",
    "mi1 = np.zeros(N)\n",
    "mi2 = np.zeros(N)\n",
    "mi3 = np.zeros(N)\n",
    "pul = 0\n",
    "outliers1 = []\n",
    "outliers2 = []\n",
    "outliers3 = []\n",
    "for i in range (N):\n",
    "\tsum = 0\n",
    "\tmi1[i] = np.amin(pulses1[:,i])\n",
    "\tif mi1[i] > -11:\n",
    "\t\tpul = pul + 1\n",
    "\telse:\n",
    "\t\toutliers1.append(i) \n",
    "pul = 0\n",
    "for i in range (N):\n",
    "\tsum = 0\n",
    "\tmi2[i] = np.amin(pulses2[:,i])\n",
    "\tif mi2[i] > -11:\n",
    "\t\tpul = pul + 1\n",
    "\telse:\n",
    "\t\toutliers2.append(i)   \n",
    "pul = 0\n",
    "for i in range (N):\n",
    "\tsum = 0\n",
    "\tmi3[i] = np.amin(pulses3[:,i])\n",
    "\tif mi3[i] > -11:\n",
    "\t\tpul = pul + 1\n",
    "\telse:\n",
    "\t\toutliers3.append(i) \n",
    "        \n",
    "#print 'Number of pulses: ' + str(pul)\n",
    "print 'Outliers: ' +str(len(outliers2))"
   ]
  },
  {
   "cell_type": "code",
   "execution_count": 4,
   "metadata": {
    "collapsed": false,
    "scrolled": true
   },
   "outputs": [
    {
     "data": {
      "image/png": "[encoded data removed]",
      "text/plain": [
       "<matplotlib.figure.Figure at 0x7f5203c3aed0>"
      ]
     },
     "metadata": {},
     "output_type": "display_data"
    }
   ],
   "source": [
    "# señal filtrada \n",
    "pulses1=np.delete(pulses1,(outliers1),axis=1)\n",
    "pulses2=np.delete(pulses2,(outliers2),axis=1)\n",
    "pulses3=np.delete(pulses3,(outliers3),axis=1)\n",
    "time=np.linspace(0,len(pulses1[:,1])*8,len(pulses1[:,1]))\n",
    "plt.figure()\n",
    "plt.plot(time,pulses1,'r',alpha=0.1)\n",
    "plt.xlabel('Time (ns)', fontsize=20)\n",
    "plt.ylabel('Amplitude (mV)', fontsize=20)\n",
    "plt.grid(True)\n",
    "#plt.ylim(-10,100)\n",
    "#plt.gcf().set_size_inches(11,7)\n",
    "#plt.savefig('2kPulses_Hamamatus.png')\n",
    "plt.show()\n"
   ]
  },
  {
   "cell_type": "code",
   "execution_count": 5,
   "metadata": {
    "collapsed": true,
    "scrolled": true
   },
   "outputs": [],
   "source": [
    "# Pulse and charge computing\n",
    "N1 = len(pulses1.T)\t# Number of pulses\n",
    "N2 = len(pulses2.T)\n",
    "N3 = len(pulses3.T)\n",
    "peak1 = np.zeros((N1,1))\n",
    "peak2 = np.zeros((N2,1))\n",
    "peak3= np.zeros((N3,1))\n",
    "wind=209\n",
    "start=0\n",
    "pulsesf1=pulses1[start:start+wind,:]\n",
    "pulsesf2=pulses2[start:start+wind,:]\n",
    "pulsesf3=pulses3[start:start+wind,:]\n",
    "for i in range (N1):\n",
    "\tpeak1[i] = np.max(pulsesf1[:,i])\n",
    "for i in range (N2):\n",
    "\tpeak2[i] = np.max(pulsesf2[:,i])\n",
    "for i in range (N3):\n",
    "\tpeak3[i] = np.max(pulsesf3[:,i])\n",
    " \n",
    "\n"
   ]
  },
  {
   "cell_type": "code",
   "execution_count": 6,
   "metadata": {
    "collapsed": true
   },
   "outputs": [],
   "source": [
    "N1 = len(pulsesf1.T)\n",
    "N2 = len(pulsesf2.T)\n",
    "N3 = len(pulsesf3.T)\n",
    "Th=np.linspace(0.1,3.1,500)\n",
    "M=len(Th)\n",
    "DC1=np.zeros(M)\n",
    "DC2=np.zeros(M)\n",
    "DC3=np.zeros(M)\n",
    "cnt1=0;\n",
    "cnt2=0;\n",
    "cnt3=0;\n",
    "\n",
    "pe1 =12.6\n",
    "pe2 = 13.46\n",
    "pe3 = 13.93\n",
    "\n",
    "for i in Th:\n",
    "\n",
    "    for j in range(N1):\n",
    "        if (peak1[j] >= i*pe1):\n",
    "            DC1[cnt1]+=1\n",
    "    cnt1 +=1\n",
    "    for j in range(N2):\n",
    "        if (peak2[j] >= i*pe2):\n",
    "            DC2[cnt2]+=1\n",
    "    cnt2 +=1\n",
    "    for j in range(N3):\n",
    "        if (peak3[j] >= i*pe3):\n",
    "            DC3[cnt3]+=1\n",
    "    cnt3 +=1\n",
    "    \n",
    "DC1=DC1/(len(pulsesf1)*8e-9*len(pulses1.T)) \n",
    "DC2=DC2/(len(pulsesf2)*8e-9*len(pulses2.T)) \n",
    "DC3=DC3/(len(pulsesf3)*8e-9*len(pulses3.T)) "
   ]
  },
  {
   "cell_type": "code",
   "execution_count": 51,
   "metadata": {
    "collapsed": false
   },
   "outputs": [
    {
     "data": {
      "image/png": "[encoded data removed]",
      "text/plain": [
       "<matplotlib.figure.Figure at 0x7f51f9945690>"
      ]
     },
     "metadata": {},
     "output_type": "display_data"
    }
   ],
   "source": [
    "\n",
    "fig, axes = plt.subplots()\n",
    "plt.semilogy(Th,DC1,'darkslateblue',label='1.7 V')\n",
    "plt.semilogy(Th[:350],DC2[:350],'green',label='2.7 V')\n",
    "plt.semilogy(Th,DC3,'tomato',label='3.7 V')\n",
    "plt.legend()\n",
    "#plt.axhline(DC[int(np.round(0.5*500/3.1))],ls=':',c='r')\n",
    "#plt.axhline(DC[int(np.round(1.5*500/3.1))],ls=':',c='r')\n",
    "#plt.axhline(DC[int(np.round(2.5*500/3.1))],ls=':',c='r')\n",
    "axes.set_ylabel(\"DCR [Hz]\", fontsize=15)\n",
    "axes.set_xlabel(\"Threshold [p.e]\", fontsize=15)\n",
    "axes.grid(True)\n",
    "#plt.title('Hamamatsu S13360-1350CS',size=10)\n",
    "#plt.title('Hamamatsu S13360-1350CS',size=10)\n",
    "plt.ylim(50,1e6)\n",
    "plt.savefig('DCR_vs_th_1350CS.eps')\n",
    "plt.show()\n"
   ]
  },
  {
   "cell_type": "code",
   "execution_count": 47,
   "metadata": {
    "collapsed": false
   },
   "outputs": [
    {
     "data": {
      "image/png": "[encoded data removed]",
      "text/plain": [
       "<matplotlib.figure.Figure at 0x7f51ebf01e50>"
      ]
     },
     "metadata": {},
     "output_type": "display_data"
    }
   ],
   "source": [
    "fig, axes = plt.subplots()\n",
    "plt.semilogy(Th,DC3,'k', lw = 2)\n",
    "plt.axhline(2e5, color='red', ls='--', lw = 2)\n",
    "plt.axhline(0.9e4, color='red', ls='--', lw = 2)\n",
    "plt.axhline(6e2, color='red', ls='--', lw = 2)\n",
    "axes.set_ylabel(\"DCR [Hz]\", fontsize=15)\n",
    "axes.set_xlabel(\"Threshold [p.e]\", fontsize=15)\n",
    "axes.grid(True)\n",
    "plt.ylim(50,1e6)\n",
    "plt.savefig('DCR_vs_th_pe_1350CS.eps')\n",
    "plt.show()"
   ]
  },
  {
   "cell_type": "markdown",
   "metadata": {},
   "source": [
    "### Afterpulses"
   ]
  },
  {
   "cell_type": "markdown",
   "metadata": {
    "collapsed": true
   },
   "source": [
    "### 54 V"
   ]
  },
  {
   "cell_type": "code",
   "execution_count": 8,
   "metadata": {
    "collapsed": false
   },
   "outputs": [],
   "source": [
    "afterp1 = pulses1[300:,:N1]\n",
    "beforep1 = pulses1[0:200,:N1]"
   ]
  },
  {
   "cell_type": "code",
   "execution_count": 9,
   "metadata": {
    "collapsed": false
   },
   "outputs": [
    {
     "name": "stdout",
     "output_type": "stream",
     "text": [
      "785\n",
      "771\n",
      "0.188273265196\n"
     ]
    }
   ],
   "source": [
    "afterpeak1 = np.zeros((N1,1))\n",
    "beforepeak1 = np.zeros((N1,1))\n",
    "afterpulses1 = 0\n",
    "beforepulses1 = 0\n",
    "\n",
    "for i in range (N1):\n",
    "    \n",
    "    afterpeak1[i] = np.max(afterp1[:,i])\n",
    "    beforepeak1[i] = np.max(beforep1[:,i])\n",
    "    \n",
    "    if afterpeak1[i] >= (1*pe1-0.3*pe1):\n",
    "        afterpulses1 +=1\n",
    "    if beforepeak1[i] >= (1*pe1-0.3*pe1):\n",
    "        beforepulses1 +=1\n",
    "        \n",
    "print(afterpulses1)\n",
    "print(beforepulses1)\n",
    "\n",
    "afPer1 = float(afterpulses1-beforepulses1)/N1*100\n",
    "\n",
    "print afPer1"
   ]
  },
  {
   "cell_type": "markdown",
   "metadata": {},
   "source": [
    "### 55 V"
   ]
  },
  {
   "cell_type": "code",
   "execution_count": 10,
   "metadata": {
    "collapsed": true
   },
   "outputs": [],
   "source": [
    "afterp2 = pulses2[300:,:N2]\n",
    "beforep2 = pulses2[0:200,:N2]"
   ]
  },
  {
   "cell_type": "code",
   "execution_count": 11,
   "metadata": {
    "collapsed": false
   },
   "outputs": [
    {
     "name": "stdout",
     "output_type": "stream",
     "text": [
      "1476\n",
      "1406\n",
      "0.918032786885\n"
     ]
    }
   ],
   "source": [
    "afterpeak2 = np.zeros((N2,1))\n",
    "beforepeak2 = np.zeros((N2,1))\n",
    "afterpulses2 = 0\n",
    "beforepulses2 = 0\n",
    "\n",
    "for i in range (N2):\n",
    "    \n",
    "    afterpeak2[i] = np.max(afterp2[:,i])\n",
    "    beforepeak2[i] = np.max(beforep2[:,i])\n",
    "    \n",
    "    if afterpeak2[i] >= (1*pe2-0.3*pe2):\n",
    "        afterpulses2 +=1\n",
    "    if beforepeak2[i] >= (1*pe2-0.3*pe2):\n",
    "        beforepulses2 +=1\n",
    "        \n",
    "print(afterpulses2)\n",
    "print(beforepulses2)\n",
    "\n",
    "afPer2 = float(afterpulses2-beforepulses2)/N2*100\n",
    "\n",
    "print afPer2"
   ]
  },
  {
   "cell_type": "markdown",
   "metadata": {},
   "source": [
    "#### 56 V"
   ]
  },
  {
   "cell_type": "code",
   "execution_count": 12,
   "metadata": {
    "collapsed": true
   },
   "outputs": [],
   "source": [
    "afterp3 = pulses3[300:,:N3]\n",
    "beforep3 = pulses3[0:200,:N3]"
   ]
  },
  {
   "cell_type": "code",
   "execution_count": 13,
   "metadata": {
    "collapsed": false
   },
   "outputs": [
    {
     "name": "stdout",
     "output_type": "stream",
     "text": [
      "1826\n",
      "1601\n",
      "2.88646568313\n"
     ]
    }
   ],
   "source": [
    "afterpeak3 = np.zeros((N3,1))\n",
    "beforepeak3 = np.zeros((N3,1))\n",
    "afterpulses3 = 0\n",
    "beforepulses3 = 0\n",
    "\n",
    "for i in range (N3):\n",
    "    \n",
    "    afterpeak3[i] = np.max(afterp3[:,i])\n",
    "    beforepeak3[i] = np.max(beforep3[:,i])\n",
    "    \n",
    "    if afterpeak3[i] >= (1*pe3-0.3*pe3):\n",
    "        afterpulses3 +=1\n",
    "    if beforepeak3[i] >= (1*pe3-0.3*pe3):\n",
    "        beforepulses3 +=1\n",
    "        \n",
    "print(afterpulses3)\n",
    "print(beforepulses3)\n",
    "\n",
    "afPer3 = float(afterpulses3-beforepulses3)/N3*100\n",
    "\n",
    "print afPer3"
   ]
  },
  {
   "cell_type": "code",
   "execution_count": 14,
   "metadata": {
    "collapsed": true
   },
   "outputs": [],
   "source": [
    "afvec = [afPer1, afPer2, afPer3]\n",
    "overV = [1.7, 2.7, 3.7]"
   ]
  },
  {
   "cell_type": "code",
   "execution_count": 15,
   "metadata": {
    "collapsed": false
   },
   "outputs": [
    {
     "data": {
      "image/png": "[encoded data removed]",
      "text/plain": [
       "<matplotlib.figure.Figure at 0x7f51ec2d73d0>"
      ]
     },
     "metadata": {},
     "output_type": "display_data"
    }
   ],
   "source": [
    "plt.figure()\n",
    "plt.plot(overV,afvec, 'ok')\n",
    "plt.ylabel(\"Afterpulse [%]\", fontsize=15)\n",
    "plt.xlabel(\"Over Voltage [V]\", fontsize=15)\n",
    "plt.grid()\n",
    "plt.show()"
   ]
  },
  {
   "cell_type": "code",
   "execution_count": 16,
   "metadata": {
    "collapsed": false
   },
   "outputs": [],
   "source": [
    "paramAf = scipy.optimize.curve_fit(lambda t,a,b: a*np.exp(-b*t),  np.array(overV),  afvec,  p0=(4, 1e-9))\n",
    "AAf = paramAf[0][0]\n",
    "BAf = paramAf[0][1]\n",
    "\n",
    "Over_fit = np.linspace(1,4,101)\n",
    "\n",
    "After_fit = AAf*np.exp(-BAf*Over_fit)\n"
   ]
  },
  {
   "cell_type": "code",
   "execution_count": 17,
   "metadata": {
    "collapsed": false
   },
   "outputs": [
    {
     "data": {
      "image/png": "[encoded data removed]",
      "text/plain": [
       "<matplotlib.figure.Figure at 0x7f51ee1df6d0>"
      ]
     },
     "metadata": {},
     "output_type": "display_data"
    }
   ],
   "source": [
    "plt.figure()\n",
    "plt.plot(overV,afvec, 'ok')\n",
    "plt.plot(Over_fit, After_fit, '--k')\n",
    "plt.ylabel(\"Afterpulse [%]\", fontsize=15)\n",
    "plt.xlabel(\"Over Voltage [V]\", fontsize=15)\n",
    "plt.grid()\n",
    "plt.savefig('After_vs_Ov_1350CS.eps')\n",
    "plt.show()"
   ]
  },
  {
   "cell_type": "markdown",
   "metadata": {},
   "source": [
    "###  Crosstalk"
   ]
  },
  {
   "cell_type": "code",
   "execution_count": 18,
   "metadata": {
    "collapsed": false
   },
   "outputs": [],
   "source": [
    "Cros1 = 0\n",
    "Cros2 = 0\n",
    "Cros3 = 0\n",
    "\n",
    "D1 = 0\n",
    "D2 = 0\n",
    "D3 = 0\n",
    "\n",
    "for j in range(N1):\n",
    "    if (peak1[j] >= 2*pe1-0.3*pe1):\n",
    "        Cros1 +=1\n",
    "    if (peak1[j] >= 1*pe1-0.3*pe1):\n",
    "        D1 +=1\n",
    "\n",
    "for j in range(N2):\n",
    "    if (peak2[j] >= 2*pe2-0.3*pe2):\n",
    "        Cros2 +=1\n",
    "    if (peak2[j] >= 1*pe2-0.3*pe2):\n",
    "        D2 +=1\n",
    "\n",
    "for j in range(N3):\n",
    "    if (peak3[j] >= 2*pe3-0.3*pe3):\n",
    "        Cros3 +=1\n",
    "    if (peak3[j] >= 1*pe3-0.3*pe3):\n",
    "        D3 +=1\n",
    "\n",
    "CrosPer1 = (float(Cros1)/D1)*100\n",
    "CrosPer2 = (float(Cros2)/D2)*100\n",
    "CrosPer3 = (float(Cros3)/D3)*100"
   ]
  },
  {
   "cell_type": "code",
   "execution_count": 19,
   "metadata": {
    "collapsed": true
   },
   "outputs": [],
   "source": [
    "crosVec = [CrosPer1, CrosPer2, CrosPer3]"
   ]
  },
  {
   "cell_type": "code",
   "execution_count": 20,
   "metadata": {
    "collapsed": false
   },
   "outputs": [
    {
     "data": {
      "image/png": "[encoded data removed]",
      "text/plain": [
       "<matplotlib.figure.Figure at 0x7f51ec8628d0>"
      ]
     },
     "metadata": {},
     "output_type": "display_data"
    }
   ],
   "source": [
    "plt.figure()\n",
    "plt.plot(overV,crosVec, 'ok')\n",
    "plt.ylabel(\"Crosstalk [%]\", fontsize=15)\n",
    "plt.xlabel(\"Over Voltage [V]\", fontsize=15)\n",
    "plt.grid()\n",
    "plt.show()"
   ]
  },
  {
   "cell_type": "code",
   "execution_count": 21,
   "metadata": {
    "collapsed": true
   },
   "outputs": [],
   "source": [
    "paramCros = scipy.optimize.curve_fit(lambda t,a,b: a*np.exp(-b*t),  np.array(overV),  crosVec,  p0=(4, 1e-9))\n",
    "ACros = paramCros[0][0]\n",
    "BCros = paramCros[0][1]\n",
    "\n",
    "Over_fit = np.linspace(1,4,101)\n",
    "\n",
    "Cros_fit = ACros*np.exp(-BCros*Over_fit)"
   ]
  },
  {
   "cell_type": "code",
   "execution_count": 22,
   "metadata": {
    "collapsed": false
   },
   "outputs": [
    {
     "data": {
      "image/png": "[encoded data removed]",
      "text/plain": [
       "<matplotlib.figure.Figure at 0x7f51ecc93790>"
      ]
     },
     "metadata": {},
     "output_type": "display_data"
    }
   ],
   "source": [
    "plt.figure()\n",
    "plt.plot(overV,crosVec, 'ok')\n",
    "plt.plot(Over_fit, Cros_fit, '--k')\n",
    "plt.ylabel(\"Crosstalk [%]\", fontsize=15)\n",
    "plt.xlabel(\"Over Voltage [V]\", fontsize=15)\n",
    "plt.grid()\n",
    "plt.savefig('Cross_vs_Ov_1350CS.eps')\n",
    "plt.show()"
   ]
  },
  {
   "cell_type": "code",
   "execution_count": 23,
   "metadata": {
    "collapsed": false
   },
   "outputs": [
    {
     "data": {
      "image/png": "[encoded data removed]",
      "text/plain": [
       "<matplotlib.figure.Figure at 0x7f51ec991fd0>"
      ]
     },
     "metadata": {},
     "output_type": "display_data"
    }
   ],
   "source": [
    "plt.figure()\n",
    "plt.plot(overV,crosVec, 'ok')\n",
    "plt.plot(overV,afvec, 'ob')\n",
    "plt.plot(Over_fit, Cros_fit, '--k', label=\"Crosstalk\")\n",
    "plt.plot(Over_fit, After_fit, '--b', label=\"Afterpulse\")\n",
    "plt.ylabel(\"Correlated noise [%]\", fontsize=15)\n",
    "plt.xlabel(\"Over Voltage [V]\", fontsize=15)\n",
    "plt.legend(loc=2)\n",
    "plt.grid()\n",
    "plt.savefig('CorrNoise_vs_Ov_1350CS.eps')\n",
    "plt.show()"
   ]
  },
  {
   "cell_type": "code",
   "execution_count": null,
   "metadata": {
    "collapsed": true
   },
   "outputs": [],
   "source": []
  },
  {
   "cell_type": "code",
   "execution_count": null,
   "metadata": {
    "collapsed": true
   },
   "outputs": [],
   "source": []
  }
 ],
 "metadata": {
  "kernelspec": {
   "display_name": "Python 2",
   "language": "python",
   "name": "python2"
  },
  "language_info": {
   "codemirror_mode": {
    "name": "ipython",
    "version": 2
   },
   "file_extension": ".py",
   "mimetype": "text/x-python",
   "name": "python",
   "nbconvert_exporter": "python",
   "pygments_lexer": "ipython2",
   "version": "2.7.6"
  }
 },
 "nbformat": 4,
 "nbformat_minor": 2
}
