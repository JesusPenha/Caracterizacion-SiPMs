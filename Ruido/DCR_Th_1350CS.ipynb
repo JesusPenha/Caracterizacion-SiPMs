{
 "cells": [
  {
   "cell_type": "code",
   "execution_count": 2,
   "metadata": {
    "collapsed": true
   },
   "outputs": [],
   "source": [
    "%matplotlib inline\n",
    "from sklearn import mixture\n",
    "import numpy as np\n",
    "import matplotlib.pyplot as plt\n",
    "import math\n",
    "import scipy.stats as stats\n",
    "from scipy.stats import norm\n",
    "import matplotlib.mlab as mlab\n",
    "from scipy.interpolate import *\n"
   ]
  },
  {
   "cell_type": "code",
   "execution_count": 3,
   "metadata": {
    "collapsed": true
   },
   "outputs": [],
   "source": [
    "data1 = np.loadtxt('LED_2.6V_Gain_25_grad_S13360_54V.txt').T\n",
    "data2 = np.loadtxt('LED_2.6V_Gain_25_grad_S13360_55V.txt').T\n",
    "data3 = np.loadtxt('LED_2.6V_Gain_25_grad_S13360_56V.txt').T\n",
    "samples =500\n",
    "time_0 =0\n",
    "time=np.linspace(0,samples*8,samples)\n",
    "pulses1 = -1000*data1[time_0:time_0+samples,:10000]\n",
    "pulses2 = -1000*data2[time_0:time_0+samples,:10000]\n",
    "pulses3 = -1000*data3[time_0:time_0+samples,:10000]\n",
    "#pulses = -data\n",
    "# Constants\n",
    "t = 8e-9\n",
    "gain = 92   ####### revisar estooooo####\n",
    "res = 51\n",
    "kte = t*1e-3/(gain*res)\n"
   ]
  },
  {
   "cell_type": "code",
   "execution_count": 4,
   "metadata": {},
   "outputs": [
    {
     "name": "stdout",
     "output_type": "stream",
     "text": [
      "Outliers: 2375\n"
     ]
    }
   ],
   "source": [
    "# Baseline correction\n",
    "N = len(pulses2.T)\t# Number of pulses\n",
    "mean1 = np.mean(pulses1[1,:])\n",
    "mean2 = np.mean(pulses2[1,:])\n",
    "mean3 = np.mean(pulses3[1,:])\n",
    "pulses1 = pulses1 - mean1\n",
    "pulses2 = pulses2 - mean2\n",
    "pulses3 = pulses3- mean3\n",
    "# Outliers filtering\n",
    "mi1 = np.zeros(N)\n",
    "mi2 = np.zeros(N)\n",
    "mi3 = np.zeros(N)\n",
    "pul = 0\n",
    "outliers1 = []\n",
    "outliers2 = []\n",
    "outliers3 = []\n",
    "for i in range (N):\n",
    "\tsum = 0\n",
    "\tmi1[i] = np.amin(pulses1[:,i])\n",
    "\tif mi1[i] > -11:\n",
    "\t\tpul = pul + 1\n",
    "\telse:\n",
    "\t\toutliers1.append(i) \n",
    "pul = 0\n",
    "for i in range (N):\n",
    "\tsum = 0\n",
    "\tmi2[i] = np.amin(pulses2[:,i])\n",
    "\tif mi2[i] > -11:\n",
    "\t\tpul = pul + 1\n",
    "\telse:\n",
    "\t\toutliers2.append(i)   \n",
    "pul = 0\n",
    "for i in range (N):\n",
    "\tsum = 0\n",
    "\tmi3[i] = np.amin(pulses3[:,i])\n",
    "\tif mi3[i] > -11:\n",
    "\t\tpul = pul + 1\n",
    "\telse:\n",
    "\t\toutliers3.append(i) \n",
    "        \n",
    "#print 'Number of pulses: ' + str(pul)\n",
    "print 'Outliers: ' +str(len(outliers2))"
   ]
  },
  {
   "cell_type": "code",
   "execution_count": 5,
   "metadata": {
    "scrolled": true
   },
   "outputs": [
    {
     "data": {
      "image/png": "[encoded data removed]",
      "text/plain": [
       "<matplotlib.figure.Figure at 0x7f6e13256f50>"
      ]
     },
     "metadata": {},
     "output_type": "display_data"
    }
   ],
   "source": [
    "# señal filtrada \n",
    "pulses1=np.delete(pulses1,(outliers1),axis=1)\n",
    "pulses2=np.delete(pulses2,(outliers2),axis=1)\n",
    "pulses3=np.delete(pulses3,(outliers3),axis=1)\n",
    "time=np.linspace(0,len(pulses1[:,1])*8,len(pulses1[:,1]))\n",
    "plt.figure()\n",
    "plt.plot(time,pulses1,'r',alpha=0.1)\n",
    "plt.xlabel('Time (ns)', fontsize=20)\n",
    "plt.ylabel('Amplitude (mV)', fontsize=20)\n",
    "plt.grid(True)\n",
    "#plt.ylim(-10,100)\n",
    "#plt.gcf().set_size_inches(11,7)\n",
    "#plt.savefig('2kPulses_Hamamatus.png')\n",
    "plt.show()\n"
   ]
  },
  {
   "cell_type": "code",
   "execution_count": 6,
   "metadata": {
    "scrolled": true
   },
   "outputs": [],
   "source": [
    "# Pulse and charge computing\n",
    "N1 = len(pulses1.T)\t# Number of pulses\n",
    "N2 = len(pulses2.T)\n",
    "N3 = len(pulses3.T)\n",
    "peak1 = np.zeros((N1,1))\n",
    "peak2 = np.zeros((N2,1))\n",
    "peak3= np.zeros((N3,1))\n",
    "wind=209\n",
    "start=0\n",
    "pulsesf1=pulses1[start:start+wind,:]\n",
    "pulsesf2=pulses2[start:start+wind,:]\n",
    "pulsesf3=pulses3[start:start+wind,:]\n",
    "for i in range (N1):\n",
    "\tpeak1[i] = np.max(pulsesf1[:,i])\n",
    "for i in range (N2):\n",
    "\tpeak2[i] = np.max(pulsesf2[:,i])\n",
    "for i in range (N3):\n",
    "\tpeak3[i] = np.max(pulsesf3[:,i])\n",
    " \n",
    "\n"
   ]
  },
  {
   "cell_type": "code",
   "execution_count": 15,
   "metadata": {},
   "outputs": [],
   "source": [
    "N1 = len(pulsesf1.T)\n",
    "N2 = len(pulsesf2.T)\n",
    "N3 = len(pulsesf3.T)\n",
    "Th=np.linspace(0.1,3.1,500)\n",
    "M=len(Th)\n",
    "DC1=np.zeros(M)\n",
    "DC2=np.zeros(M)\n",
    "DC3=np.zeros(M)\n",
    "cnt1=0;\n",
    "cnt2=0;\n",
    "cnt3=0;\n",
    "\n",
    "for i in Th:\n",
    "\n",
    "    for j in range(N1):\n",
    "        if (peak1[j] >= i*12.6):\n",
    "            DC1[cnt1]+=1\n",
    "    cnt1 +=1\n",
    "    for j in range(N2):\n",
    "        if (peak2[j] >= i*13.46):\n",
    "            DC2[cnt2]+=1\n",
    "    cnt2 +=1\n",
    "    for j in range(N3):\n",
    "        if (peak3[j] >= i*13.93):\n",
    "            DC3[cnt3]+=1\n",
    "    cnt3 +=1\n",
    "DC1=DC1/(len(pulsesf1)*8e-9*len(pulses1.T)) \n",
    "DC2=DC2/(len(pulsesf2)*8e-9*len(pulses2.T)) \n",
    "DC3=DC3/(len(pulsesf3)*8e-9*len(pulses3.T)) "
   ]
  },
  {
   "cell_type": "code",
   "execution_count": 34,
   "metadata": {},
   "outputs": [
    {
     "data": {
      "image/png": "[encoded data removed]",
      "text/plain": [
       "<matplotlib.figure.Figure at 0x7f6dd1451850>"
      ]
     },
     "metadata": {},
     "output_type": "display_data"
    }
   ],
   "source": [
    "\n",
    "fig, axes = plt.subplots()\n",
    "plt.semilogy(Th,DC1,'darkslateblue',label='54 V')\n",
    "plt.semilogy(Th[:350],DC2[:350],'green',label='55 V')\n",
    "plt.semilogy(Th,DC3,'tomato',label='56 V')\n",
    "plt.legend()\n",
    "#plt.axhline(DC[int(np.round(0.5*500/3.1))],ls=':',c='r')\n",
    "#plt.axhline(DC[int(np.round(1.5*500/3.1))],ls=':',c='r')\n",
    "#plt.axhline(DC[int(np.round(2.5*500/3.1))],ls=':',c='r')\n",
    "axes.set_ylabel(\"DCR [Hz]\", fontsize=15)\n",
    "axes.set_xlabel(\"Umbral [p.e]\", fontsize=15)\n",
    "axes.grid(True)\n",
    "plt.title('Hamamatsu S13360-1350CS',size=10)\n",
    "#plt.title('Hamamatsu S13360-1350CS',size=10)\n",
    "plt.savefig('DCR_vs_th_1350CS.eps')\n",
    "plt.show()\n"
   ]
  },
  {
   "cell_type": "code",
   "execution_count": 21,
   "metadata": {},
   "outputs": [
    {
     "data": {
      "text/plain": [
       "500"
      ]
     },
     "execution_count": 21,
     "metadata": {},
     "output_type": "execute_result"
    }
   ],
   "source": []
  },
  {
   "cell_type": "code",
   "execution_count": null,
   "metadata": {
    "collapsed": true
   },
   "outputs": [],
   "source": []
  }
 ],
 "metadata": {
  "kernelspec": {
   "display_name": "Python 2",
   "language": "python",
   "name": "python2"
  },
  "language_info": {
   "codemirror_mode": {
    "name": "ipython",
    "version": 2
   },
   "file_extension": ".py",
   "mimetype": "text/x-python",
   "name": "python",
   "nbconvert_exporter": "python",
   "pygments_lexer": "ipython2",
   "version": "2.7.13"
  }
 },
 "nbformat": 4,
 "nbformat_minor": 2
}
